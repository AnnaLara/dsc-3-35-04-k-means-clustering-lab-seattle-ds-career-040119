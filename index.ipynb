{
 "cells": [
  {
   "cell_type": "markdown",
   "metadata": {},
   "source": [
    "# K-means Clustering - Lab\n",
    "\n",
    "## Introduction\n",
    "\n",
    "In this lab, we'll learn how to use scikit-learn's implementation of the K-means Clustering algorithm to analyze a dataset!\n",
    "\n",
    "## Objectives\n",
    "\n",
    "You will be able to:\n",
    "\n",
    "* Demonstrate an understanding of how the K-means Clustering algorithm works\n",
    "* Perform K-means Clustering with scikit-learn and interpret results\n",
    "* Use metrics such as Calinski Harabaz Scores (Variance Ratios) to determine the optimal number of clusters\n",
    "\n",
    "\n",
    "## Understanding the K-means Algorithm \n",
    "\n",
    "The k-means clustering algorithm is an iterative algorithm that reaches for a pre-determined number of clusters within an unlabeled dataset, and basically works as follows:\n",
    "\n",
    "- select k initial seeds\n",
    "- assign each observation to the cluster to which it is \"closest\" \n",
    "- recompute the cluster centroids\n",
    "- reassign the observations to one of the clusters according to some rule\n",
    "- stop if there is no reallocation\n",
    "\n",
    "## Creating a Dataset\n",
    "\n",
    "For this lab, we'll create a synthetic dataset to work with, so that there are clearly defined clusters we can work with to see how well the algorithm performs. \n",
    "\n",
    "In the cell below:\n",
    "\n",
    "* Import `make_blobs` from `sklearn.datasets`\n",
    "* Import pandas, numpy, and matplotlib.pyplot, and set the standard alias for each. \n",
    "* Set matplotlib visualizations to display inline\n",
    "* Use numpy to set a random seed of `1`.\n",
    "* Import `KMeans` from `sklearn.cluster`"
   ]
  },
  {
   "cell_type": "code",
   "execution_count": 2,
   "metadata": {},
   "outputs": [],
   "source": [
    "from sklearn.datasets import make_blobs\n",
    "from sklearn.cluster import KMeans\n",
    "import random\n",
    "import pandas as pd\n",
    "import numpy as np\n",
    "import matplotlib.pyplot as plt\n",
    "\n",
    "%matplotlib inline\n",
    "random.seed(1)"
   ]
  },
  {
   "cell_type": "markdown",
   "metadata": {},
   "source": [
    "Now, we'll use `make_blobs` to create our dataset. \n",
    "\n",
    "In the cell below:\n",
    "\n",
    "* Call `make_blobs`, and pass in the following parameters:\n",
    "    * `n_samples=400`\n",
    "    * `n_features=2`\n",
    "    * `centers=6`\n",
    "    * `cluster_std=0.8`"
   ]
  },
  {
   "cell_type": "code",
   "execution_count": null,
   "metadata": {},
   "outputs": [],
   "source": [
    "X, y = make_blobs(n_samples=400, n_features=2, centers=6, cluster_std=0.8)"
   ]
  },
  {
   "cell_type": "code",
   "execution_count": 13,
   "metadata": {},
   "outputs": [
    {
     "data": {
      "text/plain": [
       "array([[ 4.3147677 , -3.22217223],\n",
       "       [ 1.30753659,  1.21791507],\n",
       "       [ 3.45996206, -0.57732427],\n",
       "       [ 2.59211098, -2.16088718],\n",
       "       [ 0.63700953,  8.7997304 ],\n",
       "       [ 9.22576286,  1.97095992],\n",
       "       [ 0.64570099,  8.74587225],\n",
       "       [ 6.39306171,  4.70648318],\n",
       "       [ 8.32608959,  5.72109249],\n",
       "       [ 9.76462932,  1.06462081],\n",
       "       [ 2.79929877, -0.37902359],\n",
       "       [ 7.82239494,  5.32786811],\n",
       "       [ 7.56669143,  6.37954025],\n",
       "       [ 1.37997496,  8.81113216],\n",
       "       [ 7.16320834,  5.04760436],\n",
       "       [ 5.22321642, -2.92884536],\n",
       "       [ 8.88047819,  4.0149223 ],\n",
       "       [ 4.53670405, -2.32664166],\n",
       "       [ 7.58143187, -0.2846619 ],\n",
       "       [ 2.26779978, -0.6658339 ],\n",
       "       [ 8.17661612,  2.07125075],\n",
       "       [ 5.90582208, -2.86892613],\n",
       "       [ 6.64372966,  5.27859794],\n",
       "       [ 4.92777429, -1.40130455],\n",
       "       [ 6.73270391,  6.36968048],\n",
       "       [ 6.36811848,  6.06123974],\n",
       "       [ 9.36198848,  0.71273315],\n",
       "       [ 4.81701696, -1.54078896],\n",
       "       [ 7.66981816,  5.51660666],\n",
       "       [ 8.35375871,  5.4196647 ],\n",
       "       [ 9.35580691,  4.31281173],\n",
       "       [ 5.05655346, -2.43705974],\n",
       "       [ 5.05027013, -2.45232475],\n",
       "       [ 3.0549571 ,  0.09651649],\n",
       "       [ 3.75795737, -2.16256615],\n",
       "       [ 4.24488505, -2.93256017],\n",
       "       [ 6.2218551 ,  2.95593148],\n",
       "       [ 9.5810431 ,  2.27695673],\n",
       "       [ 6.72725064,  5.2704453 ],\n",
       "       [ 5.56969388, -1.65971123],\n",
       "       [ 6.36810183, -1.78668533],\n",
       "       [ 9.06300849, -0.57219916],\n",
       "       [ 8.3159988 ,  1.38315671],\n",
       "       [ 2.02750654, -1.32379223],\n",
       "       [ 1.43888352,  9.57307289],\n",
       "       [ 8.01489549,  5.37167102],\n",
       "       [ 8.28297938,  5.00783061],\n",
       "       [ 8.54721785,  1.81129547],\n",
       "       [ 6.20752511,  4.27412659],\n",
       "       [ 7.59455107,  6.14286847],\n",
       "       [ 9.08008079,  1.85190955],\n",
       "       [ 4.28900353, -1.73832207],\n",
       "       [ 1.16388636,  7.17282543],\n",
       "       [ 5.24014611, -1.34221443],\n",
       "       [ 7.72655007,  4.28926213],\n",
       "       [ 3.82108047, -2.21446094],\n",
       "       [ 5.60112919, -3.82632852],\n",
       "       [ 6.39808496,  2.65854633],\n",
       "       [ 2.26297959,  7.94972443],\n",
       "       [ 8.21910818,  6.53879416],\n",
       "       [ 7.94638705,  5.55775333],\n",
       "       [ 7.87646055,  5.76139225],\n",
       "       [ 6.47354023,  3.64581179],\n",
       "       [ 3.17422556, -1.11905757],\n",
       "       [ 1.28425685,  0.33266978],\n",
       "       [ 6.52348527,  4.43429548],\n",
       "       [ 2.9832424 , -1.6975992 ],\n",
       "       [ 8.32447396,  4.97749066],\n",
       "       [ 8.37759464,  4.4570849 ],\n",
       "       [ 8.2795052 ,  2.70497345],\n",
       "       [ 3.0894476 ,  8.57342495],\n",
       "       [ 7.38879687,  5.69854224],\n",
       "       [ 8.14704785,  3.18819248],\n",
       "       [ 0.51796216,  8.41480216],\n",
       "       [ 5.00652108, -1.65029204],\n",
       "       [ 6.58984638,  4.67251119],\n",
       "       [ 5.44078417, -3.09382008],\n",
       "       [ 8.62997317,  2.39331051],\n",
       "       [ 1.01107519,  8.29345772],\n",
       "       [ 5.0961009 , -3.11304016],\n",
       "       [ 7.02992548,  3.52110115],\n",
       "       [ 9.85745077,  1.12786509],\n",
       "       [ 4.75240734, -2.98062508],\n",
       "       [ 6.36031048,  5.04863986],\n",
       "       [ 4.93335513, -2.28496189],\n",
       "       [ 5.90069494,  5.0403934 ],\n",
       "       [ 5.75039733, -2.67246099],\n",
       "       [ 4.53297406, -1.2335349 ],\n",
       "       [ 2.54057959, 10.46447273],\n",
       "       [ 1.64240159,  9.91037573],\n",
       "       [10.62490139,  0.62943727],\n",
       "       [ 5.59266752, -2.78127084],\n",
       "       [ 0.84497942,  6.87889989],\n",
       "       [ 8.61980544,  3.69557021],\n",
       "       [ 5.88554449, -2.60308218],\n",
       "       [ 0.51859056, -0.18922389],\n",
       "       [ 2.60548917, -1.45440476],\n",
       "       [ 3.4288159 ,  9.3206002 ],\n",
       "       [ 1.61682997,  9.10812354],\n",
       "       [ 7.04787085,  3.61186361],\n",
       "       [ 6.51278151,  4.13071119],\n",
       "       [ 4.99556401, -3.00450127],\n",
       "       [ 3.63274166,  9.20436737],\n",
       "       [ 5.66461335, -2.38555165],\n",
       "       [ 7.86006811,  5.84344844],\n",
       "       [ 9.63156441, -0.16717587],\n",
       "       [ 8.13359071,  5.80767106],\n",
       "       [ 5.80339023,  4.7730474 ],\n",
       "       [10.85892005,  0.71492821],\n",
       "       [ 4.8802074 ,  5.74880191],\n",
       "       [ 2.77101532,  0.50653349],\n",
       "       [ 2.37402244, -1.65681099],\n",
       "       [ 9.52025914,  2.09646917],\n",
       "       [ 2.12033663,  8.00799213],\n",
       "       [ 9.02752292, -0.06923334],\n",
       "       [ 5.88563694,  3.59394794],\n",
       "       [ 9.69672333,  0.59196491],\n",
       "       [ 8.67055385,  5.81445551],\n",
       "       [ 4.86038346,  4.94918781],\n",
       "       [ 1.08915697,  9.09567501],\n",
       "       [ 3.99026921, -1.39608457],\n",
       "       [ 2.85923848,  8.77841144],\n",
       "       [ 8.18752952,  6.02488548],\n",
       "       [ 1.98060855, -0.91828448],\n",
       "       [ 1.72562698,  9.5244835 ],\n",
       "       [ 9.38122365,  1.50770638],\n",
       "       [ 1.36910342, -0.88569853],\n",
       "       [10.21638948,  1.0173478 ],\n",
       "       [ 4.85683963,  4.77973573],\n",
       "       [ 4.87277152, -2.23126625],\n",
       "       [ 8.1516496 ,  5.24760182],\n",
       "       [ 3.77529964, -3.31042286],\n",
       "       [ 1.99426738,  9.27793253],\n",
       "       [ 8.15114332,  0.99230444],\n",
       "       [ 4.02481849, -1.88428967],\n",
       "       [ 7.1289872 ,  3.84324686],\n",
       "       [ 1.00940224,  8.15074842],\n",
       "       [ 6.01374595, -2.80612069],\n",
       "       [ 3.5215608 , -4.35058345],\n",
       "       [ 8.83832246,  0.20843543],\n",
       "       [ 9.1602168 ,  5.36175068],\n",
       "       [ 2.75225487, -1.44517862],\n",
       "       [ 9.26476295,  1.89429004],\n",
       "       [ 1.80345096,  0.03431762],\n",
       "       [ 4.38162881, -1.96399665],\n",
       "       [ 9.2174071 ,  2.33705981],\n",
       "       [ 2.82504261, -0.84435745],\n",
       "       [ 7.81896226,  2.36087304],\n",
       "       [ 6.82663269,  5.0334984 ],\n",
       "       [ 6.65387123,  5.51603861],\n",
       "       [ 8.8783738 ,  0.78162782],\n",
       "       [ 2.16245275,  8.91736886],\n",
       "       [ 2.60681546, -1.28710033],\n",
       "       [ 2.01939804, -0.70074585],\n",
       "       [ 0.86561297,  7.93757529],\n",
       "       [ 9.03031213,  0.57226446],\n",
       "       [ 8.8384588 ,  1.61610404],\n",
       "       [ 8.25605318,  7.3364912 ],\n",
       "       [ 1.75584595, -0.63401641],\n",
       "       [ 2.78421975,  0.21419535],\n",
       "       [ 6.20638136,  2.61459201],\n",
       "       [ 7.0973449 ,  3.61816475],\n",
       "       [ 4.8055314 , -2.34080474],\n",
       "       [ 3.11008836,  8.78117327],\n",
       "       [ 1.47713865, 10.27708573],\n",
       "       [ 6.76784429,  4.22718661],\n",
       "       [ 6.99422796,  4.19909352],\n",
       "       [ 6.78985787,  4.74761257],\n",
       "       [ 8.34596953,  3.42950338],\n",
       "       [ 1.15343788,  8.09527101],\n",
       "       [ 3.3216781 ,  0.40144744],\n",
       "       [ 5.04643451,  2.58516804],\n",
       "       [ 5.78098047, -2.40073615],\n",
       "       [ 4.47491252, -1.44728422],\n",
       "       [ 1.87669685,  8.62063255],\n",
       "       [ 3.80467008, -0.48114788],\n",
       "       [ 0.97592642,  8.54681152],\n",
       "       [ 6.22230353,  3.51352022],\n",
       "       [ 5.04901598,  3.52939725],\n",
       "       [ 1.54312245,  9.70125045],\n",
       "       [ 5.50201468,  3.28112729],\n",
       "       [ 6.36431105,  5.03493141],\n",
       "       [ 6.3445571 ,  4.93671589],\n",
       "       [ 1.50927926, -0.43589781],\n",
       "       [ 3.8202712 , -0.15458353],\n",
       "       [ 1.6494104 , -0.39401794],\n",
       "       [ 2.48560038, -1.393112  ],\n",
       "       [ 5.80982703, -1.68639988],\n",
       "       [ 7.73984209,  6.17143183],\n",
       "       [ 1.65479332,  0.3803751 ],\n",
       "       [ 8.87109391,  1.77364174],\n",
       "       [ 6.30018309,  4.90761042],\n",
       "       [ 7.37541587,  4.96697851],\n",
       "       [ 1.33264857, -0.07557294],\n",
       "       [ 1.60074174,  0.03374613],\n",
       "       [ 4.96089141,  3.88573775],\n",
       "       [ 1.59169959,  9.34158013],\n",
       "       [ 2.53351258,  9.49490176],\n",
       "       [ 2.83931766, -0.71836529],\n",
       "       [ 2.04533671,  8.42819247],\n",
       "       [ 2.399709  , -0.67290478],\n",
       "       [ 4.15580842, -3.36730832],\n",
       "       [ 5.70093883,  4.00067542],\n",
       "       [ 5.42374641, -1.99484292],\n",
       "       [ 8.15398499,  1.0670106 ],\n",
       "       [ 8.07569087,  5.6170432 ],\n",
       "       [ 8.48527199, -0.14663552],\n",
       "       [ 2.92026915, -0.55049493],\n",
       "       [ 6.18696022,  4.65479327],\n",
       "       [ 2.44139089, -0.63426804],\n",
       "       [ 4.847072  , -2.40526399],\n",
       "       [ 1.8604715 , -0.68223826],\n",
       "       [ 2.61383367, -0.23147288],\n",
       "       [10.19983812,  1.25708495],\n",
       "       [ 2.38067937, -1.5400048 ],\n",
       "       [ 5.90022732,  4.80669956],\n",
       "       [ 1.84339361, -0.57587136],\n",
       "       [ 6.29433842,  4.96534705],\n",
       "       [ 4.13087607, -3.12677427],\n",
       "       [ 3.07448704, -0.30948532],\n",
       "       [ 4.68116509,  5.10198917],\n",
       "       [ 7.86863491, -0.75442233],\n",
       "       [ 6.06858027, -1.76855173],\n",
       "       [ 6.94540933,  4.40615529],\n",
       "       [ 4.88340949, -2.06286931],\n",
       "       [ 7.83905709,  6.94110156],\n",
       "       [ 2.59072357,  9.99036556],\n",
       "       [ 7.61105585,  3.33337644],\n",
       "       [ 5.22131763, -3.29929752],\n",
       "       [ 0.82373568,  9.10129233],\n",
       "       [ 4.66460766, -3.07238791],\n",
       "       [ 1.39228133,  9.17915208],\n",
       "       [ 8.02326337,  0.25844128],\n",
       "       [ 1.79551733,  8.2885167 ],\n",
       "       [ 2.43346005,  8.52326353],\n",
       "       [ 8.50944497,  1.27923148],\n",
       "       [ 1.46299491,  9.78051528],\n",
       "       [ 8.37367424,  1.17436175],\n",
       "       [ 9.80514379,  6.0907988 ],\n",
       "       [ 7.09416928,  5.26905581],\n",
       "       [ 7.62290761,  4.5564475 ],\n",
       "       [ 2.39245106, -0.09771954],\n",
       "       [ 1.32415985, -0.71990668],\n",
       "       [ 3.83417274, -2.94091526],\n",
       "       [ 2.00503296,  8.8698158 ],\n",
       "       [ 7.40879212,  3.81391499],\n",
       "       [ 5.20471187, -2.06877161],\n",
       "       [ 0.59419033,  8.99120326],\n",
       "       [ 6.69518728,  4.23964161],\n",
       "       [ 2.25366689, -1.33626403],\n",
       "       [ 0.02841188,  9.6288145 ],\n",
       "       [ 8.18495009,  1.2457585 ],\n",
       "       [ 8.9025643 , -0.4495579 ],\n",
       "       [ 8.00341682,  6.4064932 ],\n",
       "       [ 0.69992478,  8.65553982],\n",
       "       [ 0.82822892,  8.75352619],\n",
       "       [ 6.02282347,  3.8326481 ],\n",
       "       [ 3.14844377, -1.2601468 ],\n",
       "       [ 8.86245019,  4.72860101],\n",
       "       [ 8.60918311,  0.36002997],\n",
       "       [ 1.51399917,  9.13609373],\n",
       "       [ 6.35925067,  4.79909757],\n",
       "       [ 6.8314254 ,  5.65222131],\n",
       "       [ 8.45410507,  5.56094333],\n",
       "       [ 2.28435845, -0.02946911],\n",
       "       [ 1.2220462 ,  8.2651293 ],\n",
       "       [ 2.38357899, -0.83937306],\n",
       "       [ 9.63870344,  2.01668012],\n",
       "       [ 8.93029116,  0.52612427],\n",
       "       [ 6.2030211 , -3.20574269],\n",
       "       [ 2.67381343, -0.36136528],\n",
       "       [ 8.12219031,  5.46301217],\n",
       "       [ 8.61165263,  0.75644268],\n",
       "       [ 0.26711016,  9.02666922],\n",
       "       [ 1.82732192,  9.39088019],\n",
       "       [ 7.83566725,  4.74233274],\n",
       "       [ 5.54377524,  3.98803737],\n",
       "       [ 6.29268191,  2.91673688],\n",
       "       [ 7.11533182,  3.76063071],\n",
       "       [ 1.95159283, -0.87741514],\n",
       "       [ 7.66834174,  6.1801331 ],\n",
       "       [ 5.69830781, -2.14084496],\n",
       "       [ 6.91429804,  4.45167871],\n",
       "       [ 8.63081649,  1.50639687],\n",
       "       [ 1.25698988,  9.76756815],\n",
       "       [ 2.38189461, -0.40701153],\n",
       "       [ 9.62649239,  1.43180422],\n",
       "       [ 2.48094567,  7.63471107],\n",
       "       [ 8.273026  ,  0.1621308 ],\n",
       "       [ 8.62583669,  2.21987269],\n",
       "       [ 2.60560138, -0.42257134],\n",
       "       [ 8.75130616,  5.95684308],\n",
       "       [ 9.16854434,  1.2869626 ],\n",
       "       [ 8.14794125,  1.07788403],\n",
       "       [ 4.69952776,  2.02293446],\n",
       "       [ 0.72931595,  9.30297086],\n",
       "       [ 0.88297556,  9.38238078],\n",
       "       [ 9.54370085,  0.03529167],\n",
       "       [ 6.32801073,  2.98628708],\n",
       "       [ 3.72787054, -1.53657243],\n",
       "       [ 6.62371612,  5.71511336],\n",
       "       [ 4.62471801, -2.63436268],\n",
       "       [ 8.61934391,  1.22800571],\n",
       "       [ 8.55836475,  5.65100256],\n",
       "       [ 2.10845497,  8.27277081],\n",
       "       [ 6.33264888,  3.80453834],\n",
       "       [ 2.68487109, -0.38302391],\n",
       "       [ 7.33075972,  4.1182183 ],\n",
       "       [ 0.91666898, 10.73960152],\n",
       "       [ 1.99519015,  8.50896192],\n",
       "       [ 0.85570119,  8.25104612],\n",
       "       [ 6.43862702,  3.71390504],\n",
       "       [11.65812097,  0.70560082],\n",
       "       [ 7.84251909,  0.92735237],\n",
       "       [ 9.74827944,  1.68523233],\n",
       "       [ 7.8858887 ,  4.58063457],\n",
       "       [ 6.49594335,  4.0470178 ],\n",
       "       [ 1.11642259, -0.81778892],\n",
       "       [ 5.47806083, -2.47978514],\n",
       "       [ 0.83486329,  8.15775105],\n",
       "       [ 8.22738014,  5.04497251],\n",
       "       [ 8.00985202,  6.2254196 ],\n",
       "       [ 5.67274247,  5.02126288],\n",
       "       [ 2.09998665, -2.04084669],\n",
       "       [ 9.13405173,  5.14167168],\n",
       "       [ 5.66031077,  5.04444525],\n",
       "       [ 4.94290172, -2.85258793],\n",
       "       [ 9.9014408 ,  0.38769852],\n",
       "       [ 5.23241752, -1.60834284],\n",
       "       [ 1.73251787,  0.1257475 ],\n",
       "       [ 6.2934007 ,  4.74263812],\n",
       "       [ 5.67952017,  4.87178083],\n",
       "       [ 0.6170954 ,  7.50990412],\n",
       "       [ 2.37606758, -0.80518971],\n",
       "       [ 9.25846387,  6.31288711],\n",
       "       [ 2.41956488, -2.36131103],\n",
       "       [ 8.45683958,  6.8349602 ],\n",
       "       [ 2.1119907 ,  0.45935142],\n",
       "       [ 3.25761001, -1.38641392],\n",
       "       [-0.19993468,  8.2690574 ],\n",
       "       [ 9.32881435,  0.89343477],\n",
       "       [ 9.25099714,  0.25697201],\n",
       "       [ 5.4921694 , -2.65469482],\n",
       "       [ 8.37670322,  1.50453893],\n",
       "       [ 6.02046004,  3.74053991],\n",
       "       [ 9.11284303,  1.61441599],\n",
       "       [ 6.70692222,  3.36080795],\n",
       "       [ 5.07850896, -2.66439724],\n",
       "       [ 4.54195841, -2.96808042],\n",
       "       [ 6.82271979,  3.56626344],\n",
       "       [ 8.08111484,  5.1775108 ],\n",
       "       [ 6.31493859,  5.05995494],\n",
       "       [ 9.2398591 , -0.02006015],\n",
       "       [ 0.90069223,  9.09482308],\n",
       "       [ 6.577423  ,  3.90978277],\n",
       "       [ 6.00552126,  4.06146618],\n",
       "       [ 7.55118732,  5.05394176],\n",
       "       [ 2.31029209, -0.35702179],\n",
       "       [10.67859173,  1.52127872],\n",
       "       [ 4.14492441, -2.73216022],\n",
       "       [ 1.55771687,  8.62753081],\n",
       "       [ 4.60230473, -2.77415184],\n",
       "       [ 3.59570502,  7.57789024],\n",
       "       [ 1.54616679, -0.61284721],\n",
       "       [ 1.98167772,  8.82252159],\n",
       "       [ 3.62548792, -2.15462781],\n",
       "       [ 9.50262928,  0.83446134],\n",
       "       [ 5.89760002,  4.49428829],\n",
       "       [ 9.10085887,  1.50671893],\n",
       "       [ 2.40727415,  8.28149039],\n",
       "       [ 7.23591705,  2.33045899],\n",
       "       [ 8.6444741 ,  5.25975555],\n",
       "       [ 8.04084203,  0.57335487],\n",
       "       [ 1.33968663,  9.55470011],\n",
       "       [ 8.66773747,  1.23354166],\n",
       "       [ 3.92012452, -3.08189046],\n",
       "       [ 7.22410574,  2.86732611],\n",
       "       [ 9.48311505,  0.59189945],\n",
       "       [ 4.41187877, -2.50709373],\n",
       "       [ 2.17345055, -1.48469255],\n",
       "       [ 3.59650524, -0.39694097],\n",
       "       [ 7.05826445,  4.62181686],\n",
       "       [ 2.16009332, -1.13370505],\n",
       "       [ 6.06532072,  2.94508192],\n",
       "       [ 1.76733538,  9.64692627],\n",
       "       [ 7.06858369,  5.58859919],\n",
       "       [ 3.44954263,  0.33842926],\n",
       "       [ 8.16087295,  5.78938046],\n",
       "       [ 4.44148715, -4.06979441],\n",
       "       [ 4.40193423, -3.44531448],\n",
       "       [ 2.41730794, -0.77504747],\n",
       "       [ 7.40611119,  4.92229574],\n",
       "       [ 8.05712624,  4.84572839],\n",
       "       [ 5.02457138,  2.51989629],\n",
       "       [ 2.39301958,  9.03423353],\n",
       "       [ 3.02103427, -0.95566882],\n",
       "       [ 9.2524461 , -0.08436993],\n",
       "       [ 5.02117564, -2.21670271],\n",
       "       [ 4.54976915, -2.26363398],\n",
       "       [ 9.76782891,  0.99088608]])"
      ]
     },
     "execution_count": 13,
     "metadata": {},
     "output_type": "execute_result"
    }
   ],
   "source": [
    "X"
   ]
  },
  {
   "cell_type": "markdown",
   "metadata": {},
   "source": [
    "Now, let's visualize our clusters to see what we've created. Run the cell below to visualize our newly created \"blob\" dataset."
   ]
  },
  {
   "cell_type": "code",
   "execution_count": 4,
   "metadata": {},
   "outputs": [
    {
     "data": {
      "text/plain": [
       "<matplotlib.collections.PathCollection at 0x7f9378a98160>"
      ]
     },
     "execution_count": 4,
     "metadata": {},
     "output_type": "execute_result"
    },
    {
     "data": {
      "image/png": "[encoded data removed]",
      "text/plain": [
       "<Figure size 432x288 with 1 Axes>"
      ]
     },
     "metadata": {
      "needs_background": "light"
     },
     "output_type": "display_data"
    }
   ],
   "source": [
    "plt.scatter(X[:, 0], X[:, 1], c=y, s=10)"
   ]
  },
  {
   "cell_type": "markdown",
   "metadata": {},
   "source": [
    "The nice thing about creating a synthetic dataset with `make_blobs` is that it can assign ground-truth clusters, which is why each of the clusters in the visualization above are colored differently. Because of this, we have a way to check the performance of our clustering results against the ground truth of the synthetic dataset. Note that this isn't something that we can do with real-world problems (because if we had labels, we'd likely use supervised learning instead!). However, when learning how to work with clustering algorithms, this provides a solid way for us to learn a bit more about how the algorithm works. \n",
    "\n",
    "## Using K-means\n",
    "\n",
    "Let's go ahead and create a `KMeans` object and fit it to our data. Then, we can explore the results provided by the algorithm to see how well it performs. \n",
    "\n",
    "In the cell below:\n",
    "\n",
    "* Create a `KMeans` object, and set the `n_clusters` parameter to `6`.\n",
    "* `fit()` the KMeans object to the data stored in `X`.\n",
    "* Use the KMeans object to predict which clusters each data point belongs to by using the `Predict` method on the data stored in `X`."
   ]
  },
  {
   "cell_type": "code",
   "execution_count": 5,
   "metadata": {},
   "outputs": [],
   "source": [
    "k_means = KMeans(n_clusters=6)\n",
    "k_means.fit(X)\n",
    "\n",
    "predicted_clusters = k_means.predict(X)"
   ]
  },
  {
   "cell_type": "code",
   "execution_count": 8,
   "metadata": {},
   "outputs": [],
   "source": [
    "#predicted_clusters"
   ]
  },
  {
   "cell_type": "markdown",
   "metadata": {},
   "source": [
    "Now that we have the predicted clusters, let's visualize them both and compare the two. \n",
    "\n",
    "In the cell below: \n",
    "\n",
    "* Create a scatter plot as we did up above, but this time, set `c=predicted_clusters`. The first two arguments and `s=10` should stay the same. \n",
    "* Get the cluster centers from the object's `.cluster_centers_` attribute. \n",
    "* Create another scatter plot, but this time, for the first two arguments, pass in `centers[:, 0]` and `centers[:, 1]`. Also set `c='black'` and `s=70`."
   ]
  },
  {
   "cell_type": "code",
   "execution_count": 7,
   "metadata": {},
   "outputs": [
    {
     "data": {
      "text/plain": [
       "<matplotlib.collections.PathCollection at 0x7f9378a3b320>"
      ]
     },
     "execution_count": 7,
     "metadata": {},
     "output_type": "execute_result"
    },
    {
     "data": {
      "image/png": "[encoded data removed]",
      "text/plain": [
       "<Figure size 432x288 with 1 Axes>"
      ]
     },
     "metadata": {
      "needs_background": "light"
     },
     "output_type": "display_data"
    }
   ],
   "source": [
    "plt.scatter(X[:, 0], X[:, 1], c=predicted_clusters, s=10)"
   ]
  },
  {
   "cell_type": "code",
   "execution_count": 10,
   "metadata": {},
   "outputs": [
    {
     "data": {
      "text/plain": [
       "array([[ 2.36630424, -0.63446676],\n",
       "       [ 9.05017403,  1.02988341],\n",
       "       [ 1.57413144,  8.85175129],\n",
       "       [ 8.02058884,  5.47497413],\n",
       "       [ 4.87163763, -2.48596725],\n",
       "       [ 6.28641593,  4.07169595]])"
      ]
     },
     "execution_count": 10,
     "metadata": {},
     "output_type": "execute_result"
    }
   ],
   "source": [
    "centers = k_means.cluster_centers_\n",
    "centers"
   ]
  },
  {
   "cell_type": "markdown",
   "metadata": {},
   "source": [
    "**_Question:_**\n",
    "\n",
    "In your opinion, do the centroids match up with the cluster centers?\n",
    "\n",
    "Write your answer below this line:\n",
    "__It looks like the centroids do match with cluster centers\n",
    "_____________________________________________________________________________\n",
    "\n",
    "\n",
    "\n",
    "## Tuning Parameters\n",
    "\n",
    "As you can see, the k-means algorithm is pretty good at identifying the clusters. Do keep in mind that for a real data set, you will not be able to evaluate the method as such, as we don't know a priori what the clusters should be. This is the nature of unsupervised learning. The Scikit learn documentation does suggest two methods to evaluate your clusters when the \"ground truth\" is not known: the Silhouette coefficient and the Calinski-Harabaz Index. We'll talk about them later, but first, let's look at the Scikit learn options when using the KMeans function.\n",
    "\n",
    "The nice hing about the scikit learn k-means clustering algorithm is that certain parameters can be specified to tweak the algorithm. We'll discuss two important parameters which we haven't specified before: `init` and `algorithm`.\n",
    "\n",
    "### 1. The `init` parameter\n",
    "\n",
    "`init` specifies the method for initialization:\n",
    "\n",
    "- `k-means++` is the default method, this method selects initial cluster centers in a smart way in order to pursue fast convergence.\n",
    "- `random`: choose k random observations for the initial centroids.\n",
    "- `ndarray`: you can pass this argument and provide initial centers.\n",
    "\n",
    "### 2. The `algorithm` parameter\n",
    "\n",
    "`algorithm` specifies the algorithm used:\n",
    "\n",
    "- If `full` is specified, a full EM-style algorithm is performed. EM is short for \"Expectation Maximization\" and its name is derived from the nature of the algorithm, where in each iteration an E-step (in the context of K-means clustering, the points are assigned to the nearest center) and an M-step (the cluster mean is updated based on the elements of the cluster) is created. \n",
    "- The EM algorithm can be slow. The `elkan` variation is more efficient, but not available for sparse data.\n",
    "- The default is `auto`, and automatically selects `full` for sparse data and `elkan` for dense data. \n",
    "\n",
    "### Dealing With an Unknown Number of Clusters\n",
    "\n",
    "Now, let's create another dataset. This time, we'll randomly generate a number between 3 and 8 to determine the number of clusters, without us knowing what that value actually is. \n",
    "\n",
    "In the cell below:\n",
    "\n",
    "* Create another dataset using `make_blobs`. Pass in the following parameters:\n",
    "    * `n_samples=400`\n",
    "    * `n_features=2`\n",
    "    * `centers=np.random.randint(3, 8)`\n",
    "    * `cluster_std = 0.8`"
   ]
  },
  {
   "cell_type": "code",
   "execution_count": 14,
   "metadata": {},
   "outputs": [],
   "source": [
    "X_2, y_2 = make_blobs(n_samples=400, n_features=2, \n",
    "                      centers=np.random.randint(3, 8),\n",
    "                      cluster_std = 0.8)"
   ]
  },
  {
   "cell_type": "markdown",
   "metadata": {},
   "source": [
    "Now, we've created a dataset, but we don't know how many clusters actually exist in this dataset, so we don't know what value to set for K!\n",
    "\n",
    "In order to figure out the best value for K, we'll create a different version of the clustering algorithm for each potential value of K, and find the best one using an **_Elbow Plot_**.   \n",
    "\n",
    "First, we'll need to create a different \n",
    "\n",
    "In the cell below, create and fit each `KMeans` object. Each one should be initialized with a different value for `n_clusters` between 3 and 7, inclusive.\n",
    "\n",
    "Then, store each of the objects in a list. "
   ]
  },
  {
   "cell_type": "code",
   "execution_count": 18,
   "metadata": {},
   "outputs": [],
   "source": [
    "k_means_3 = KMeans(n_clusters=3)\n",
    "k_means_3.fit(X_2)\n",
    "k_means_4 = KMeans(n_clusters=4)\n",
    "k_means_4.fit(X_2)\n",
    "k_means_5 = KMeans(n_clusters=5)\n",
    "k_means_5.fit(X_2)\n",
    "k_means_6 = KMeans(n_clusters=6)\n",
    "k_means_6.fit(X_2)\n",
    "k_means_7 = KMeans(n_clusters=7)\n",
    "k_means_7.fit(X_2)\n",
    "k_list = [k_means_3, k_means_4, k_means_5, k_means_6, k_means_7]"
   ]
  },
  {
   "cell_type": "markdown",
   "metadata": {},
   "source": [
    "Now, in the cell below, import `calinski_harabaz_score` from `sklearn.metrics`. "
   ]
  },
  {
   "cell_type": "code",
   "execution_count": 19,
   "metadata": {},
   "outputs": [],
   "source": [
    "from sklearn.metrics import calinski_harabaz_score"
   ]
  },
  {
   "cell_type": "markdown",
   "metadata": {},
   "source": [
    "This is a metric used to judge how good our overall fit is. This score works by computing a ratio of between-cluster distance to inter-cluster distance. Intuitively, we can assume that good clusters will have smaller distances between the points in each cluster, and larger distances to the points in other clusters.\n",
    "\n",
    "Note that it's not a good idea to just exhaustively try every possible value for k. As K grows, the number of points inside each cluster shrinks, until K is equal to the total number of items in our dataset. At this point, each cluster would report a perfect variance ratio, since each point is at the center of their own individual cluster! \n",
    "\n",
    "Instead, our best method is to plot the variance ratios, and find the **_elbow_** in the plot. Here's an example of the type of plot we'll generate:\n",
    "\n",
    "<img src='elbow-method.png'>\n",
    "\n",
    "In this example, the elbow is at K=3. This provides the biggest change to the CH score, and every one after that provides only a minimal improvement. \n",
    "\n",
    "In the cell below:\n",
    "\n",
    "* Create an empty list called `CH_score`\n",
    "* Loop through the models we stored in `k_list`. \n",
    "    * For each model, get the labels from the `.labels_` attribute.\n",
    "    * Calculate the `calinski_harabaz_score` and pass in the data, `X_2`, and the `labels`. Append this score to `CH_score`"
   ]
  },
  {
   "cell_type": "code",
   "execution_count": 20,
   "metadata": {},
   "outputs": [
    {
     "data": {
      "text/plain": [
       "[1647.0920993686143,\n",
       " 3968.366291198033,\n",
       " 5848.07001131797,\n",
       " 5288.547627123291,\n",
       " 4820.8179473224545]"
      ]
     },
     "execution_count": 20,
     "metadata": {},
     "output_type": "execute_result"
    }
   ],
   "source": [
    "CH_score = []\n",
    "for k in k_list:\n",
    "    labels = k.labels_\n",
    "    CH_score.append(calinski_harabaz_score(X_2, labels))\n",
    "CH_score"
   ]
  },
  {
   "cell_type": "markdown",
   "metadata": {},
   "source": [
    "Now, let's create a visualization of our CH scores. \n",
    "\n",
    "Run the cell below to visualize our elbow plot of CH scores. "
   ]
  },
  {
   "cell_type": "code",
   "execution_count": 21,
   "metadata": {},
   "outputs": [
    {
     "data": {
      "image/png": "[encoded data removed]",
      "text/plain": [
       "<Figure size 432x288 with 1 Axes>"
      ]
     },
     "metadata": {
      "needs_background": "light"
     },
     "output_type": "display_data"
    }
   ],
   "source": [
    "plt.plot([3, 4, 5, 6, 7], CH_score)\n",
    "plt.xticks([3,4,5,6,7])\n",
    "plt.title(\"Calinski Harabaz Scores for Different Values of K\")\n",
    "plt.ylabel(\"Variance Ratio\")\n",
    "plt.xlabel(\"K=\")\n",
    "plt.show()"
   ]
  },
  {
   "cell_type": "markdown",
   "metadata": {},
   "source": [
    "**_Question:_**  Interpret the elbow plot we just created. Where is the \"elbow\" in this plot? According to this plot, how many clusters do you think actually exist in the dataset we created?\n",
    "\n",
    "Write your answer below this line:\n",
    "_According to the plot, the optimal numer of clusters is 5, since the CH score peaks at this value.______________________________________________________________________________\n",
    "\n",
    "\n",
    "Let's end by visualizing our `X_2` dataset we created, to see what our data actually looks like.\n",
    "\n",
    "In the cell below, create a scatterplot to visualize our dataset stored in `X_2`. Set `c=y_2`, so that the plot colors each point according to its ground-truth cluster, and set `s=10` so the points won't be too big. "
   ]
  },
  {
   "cell_type": "code",
   "execution_count": 22,
   "metadata": {},
   "outputs": [
    {
     "data": {
      "text/plain": [
       "<matplotlib.collections.PathCollection at 0x7f9378530908>"
      ]
     },
     "execution_count": 22,
     "metadata": {},
     "output_type": "execute_result"
    },
    {
     "data": {
      "image/png": "[encoded data removed]",
      "text/plain": [
       "<Figure size 432x288 with 1 Axes>"
      ]
     },
     "metadata": {
      "needs_background": "light"
     },
     "output_type": "display_data"
    }
   ],
   "source": [
    "plt.scatter(X_2[:, 0], X_2[:, 1], c=y_2, s=10)"
   ]
  },
  {
   "cell_type": "markdown",
   "metadata": {},
   "source": [
    "We were right! The data does actually contain six clusters. Note that are other types of metrics that can also be used to evaluate the correct value for K, such as silhouette score. However, checking the variance ratio by calculating Calinski Harabaz Scores is one of the most tried-and-true methods, and should definitely be one of the first tools you reach for when trying to figure out the optimal value for K with K-means clustering. \n",
    "\n",
    "## A Note on Dimensionality\n",
    "\n",
    "We should also note that for this example, we were able to visualize our data because it only contained two dimensions. In the real world, working with datasets with only two dimensions is quite rare. This means that you can't always visualize your plots to double check your work. For this reason, it's extra important to be considerate about the metrics you use to evaluate the performance of your clustering algorithm, since you won't be able to \"eyeball\" it to visually check how many clusters the data looks like it has when you're working with datasets that contain hundreds of dimensions!\n",
    "\n",
    "\n",
    "## Summary\n",
    "\n",
    "In this lesson, we learned how to use the K-means clustering algorithm in scikit-learn. We also learned a strategy for finding the optimal value for K by using elbow plots and variance ratios, for when we're working with data and we don't know how many clusters actually exist. "
   ]
  }
 ],
 "metadata": {
  "kernelspec": {
   "display_name": "Python 3",
   "language": "python",
   "name": "python3"
  },
  "language_info": {
   "codemirror_mode": {
    "name": "ipython",
    "version": 3
   },
   "file_extension": ".py",
   "mimetype": "text/x-python",
   "name": "python",
   "nbconvert_exporter": "python",
   "pygments_lexer": "ipython3",
   "version": "3.6.6"
  }
 },
 "nbformat": 4,
 "nbformat_minor": 2
}
